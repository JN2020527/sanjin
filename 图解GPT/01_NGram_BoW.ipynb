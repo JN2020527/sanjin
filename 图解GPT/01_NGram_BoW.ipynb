{
 "cells": [
  {
   "cell_type": "code",
   "execution_count": 1,
   "id": "9fcffa1e-d4a0-4f4c-808a-ea9bac6c4622",
   "metadata": {},
   "outputs": [
    {
     "data": {
      "text/plain": [
       "12121212"
      ]
     },
     "execution_count": 1,
     "metadata": {},
     "output_type": "execute_result"
    }
   ],
   "source": [
    "12121212"
   ]
  },
  {
   "cell_type": "code",
   "execution_count": 2,
   "id": "f496f229-9ca1-4ef6-9721-a768c41cd965",
   "metadata": {},
   "outputs": [
    {
     "ename": "NameError",
     "evalue": "name 'sqsqsqs' is not defined",
     "output_type": "error",
     "traceback": [
      "\u001b[1;31m---------------------------------------------------------------------------\u001b[0m",
      "\u001b[1;31mNameError\u001b[0m                                 Traceback (most recent call last)",
      "Cell \u001b[1;32mIn[2], line 1\u001b[0m\n\u001b[1;32m----> 1\u001b[0m sqsqsqs\n",
      "\u001b[1;31mNameError\u001b[0m: name 'sqsqsqs' is not defined"
     ]
    }
   ],
   "source": [
    "sqsqsqs"
   ]
  },
  {
   "cell_type": "code",
   "execution_count": 3,
   "id": "55c19163-f4fd-424b-9966-d2c6d76e856b",
   "metadata": {},
   "outputs": [
    {
     "ename": "NameError",
     "evalue": "name 'sqsqsqsqs' is not defined",
     "output_type": "error",
     "traceback": [
      "\u001b[1;31m---------------------------------------------------------------------------\u001b[0m",
      "\u001b[1;31mNameError\u001b[0m                                 Traceback (most recent call last)",
      "Cell \u001b[1;32mIn[3], line 1\u001b[0m\n\u001b[1;32m----> 1\u001b[0m sqsqsqsqs\n",
      "\u001b[1;31mNameError\u001b[0m: name 'sqsqsqsqs' is not defined"
     ]
    }
   ],
   "source": [
    "sqsqsqsqs"
   ]
  },
  {
   "cell_type": "code",
   "execution_count": null,
   "id": "c34a75b7-c4a8-4cc9-84e7-df8afd29a6c5",
   "metadata": {},
   "outputs": [],
   "source": []
  }
 ],
 "metadata": {
  "kernelspec": {
   "display_name": "Python 3 (ipykernel)",
   "language": "python",
   "name": "python3"
  },
  "language_info": {
   "codemirror_mode": {
    "name": "ipython",
    "version": 3
   },
   "file_extension": ".py",
   "mimetype": "text/x-python",
   "name": "python",
   "nbconvert_exporter": "python",
   "pygments_lexer": "ipython3",
   "version": "3.11.5"
  }
 },
 "nbformat": 4,
 "nbformat_minor": 5
}
